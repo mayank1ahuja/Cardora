{
 "cells": [
  {
   "cell_type": "markdown",
   "id": "5bb76258",
   "metadata": {},
   "source": [
    "# 1. Importing Dependencies"
   ]
  },
  {
   "cell_type": "code",
   "execution_count": null,
   "id": "5bb62bf3",
   "metadata": {},
   "outputs": [],
   "source": [
    "import pandas as pd\n",
    "import numpy as np\n",
    "import altair as alt"
   ]
  },
  {
   "cell_type": "code",
   "execution_count": null,
   "id": "d5a0e30d",
   "metadata": {},
   "outputs": [],
   "source": [
    "alt.data_transformers.disable_max_rows()"
   ]
  },
  {
   "cell_type": "markdown",
   "id": "334672b8",
   "metadata": {},
   "source": [
    "# 2. Importing Processed Data"
   ]
  },
  {
   "cell_type": "code",
   "execution_count": null,
   "id": "8069741d",
   "metadata": {},
   "outputs": [],
   "source": [
    "df = pd.read_csv('processed_data.csv')\n",
    "df.columns = [c.strip().lower().replace(' ', '_') for c in df.columns]\n",
    "df.shape"
   ]
  },
  {
   "cell_type": "markdown",
   "id": "668d86de",
   "metadata": {},
   "source": [
    "# 3. Feature Engineering"
   ]
  },
  {
   "cell_type": "code",
   "execution_count": null,
   "id": "5ca696b3",
   "metadata": {},
   "outputs": [],
   "source": [
    "# Standardizing column names for consistency\n",
    "df.columns = [col.strip().lower() for col in df.columns]"
   ]
  },
  {
   "cell_type": "code",
   "execution_count": null,
   "id": "5a6d0537",
   "metadata": {},
   "outputs": [],
   "source": [
    "# Credit Utilization: how much of the limit is being used\n",
    "df['utilization'] = (df['bill_amt1'] / df['limit_bal'].replace(0, np.nan)).clip(lower=0)"
   ]
  },
  {
   "cell_type": "code",
   "execution_count": null,
   "id": "3cbad48e",
   "metadata": {},
   "outputs": [],
   "source": [
    "# Payment Summaries and Billing of 6 Months\n",
    "bill_cols = [f'bill_amt{i}' for i in range(1, 7)]\n",
    "pay_cols  = [f'pay_amt{i}' for i in range(1, 7)]\n",
    "df['avg_bill_6m']  = df[bill_cols].mean(axis=1)\n",
    "df['total_pay_6m'] = df[pay_cols].sum(axis=1)"
   ]
  },
  {
   "cell_type": "code",
   "execution_count": null,
   "id": "f61b405e",
   "metadata": {},
   "outputs": [],
   "source": [
    "# Billing Trend: upward or downward over 6 months\n",
    "months = np.arange(1, 7)\n",
    "def slope_row(r):\n",
    "    y = r[bill_cols].values.astype(float)\n",
    "    valid = ~np.isnan(y)\n",
    "    if valid.sum() < 3:\n",
    "        return np.nan\n",
    "    return np.polyfit(months[valid], y[valid], 1)[0]\n",
    "df['slope'] = df[bill_cols].apply(slope_row, axis=1)"
   ]
  },
  {
   "cell_type": "code",
   "execution_count": null,
   "id": "46e5a2cb",
   "metadata": {},
   "outputs": [],
   "source": [
    "# Normalizing main indicators \n",
    "def minmax_s(x):\n",
    "    s = x.fillna(0).astype(float)\n",
    "    return (s - s.min()) / (s.max() - s.min())\n",
    "\n",
    "df['util_norm']  = minmax_s(df['utilization'])\n",
    "df['slope_norm'] = minmax_s(df['slope'].clip(lower=0))\n",
    "df['bill_norm']  = minmax_s(df['avg_bill_6m'].clip(lower=0))"
   ]
  },
  {
   "cell_type": "code",
   "execution_count": null,
   "id": "5badf65c",
   "metadata": {},
   "outputs": [],
   "source": [
    "# Composite Risk Score (weighted mix)\n",
    "w_util, w_slope, w_bill = 0.5, 0.3, 0.2\n",
    "df['risk_score'] = (\n",
    "    w_util  * df['util_norm'] +\n",
    "    w_slope * df['slope_norm'] +\n",
    "    w_bill  * df['bill_norm']\n",
    ").clip(0, 1)"
   ]
  },
  {
   "cell_type": "code",
   "execution_count": null,
   "id": "cfb3c1f3",
   "metadata": {},
   "outputs": [],
   "source": [
    "# Risk Categories\n",
    "df['risk_flag'] = pd.cut(\n",
    "    df['risk_score'],\n",
    "    bins=[-0.01, df['risk_score'].quantile(0.7),\n",
    "          df['risk_score'].quantile(0.9), 1.01],\n",
    "    labels=['Low', 'Medium', 'High'],\n",
    "    include_lowest=True\n",
    ")"
   ]
  },
  {
   "cell_type": "code",
   "execution_count": null,
   "id": "b13eefa3",
   "metadata": {},
   "outputs": [],
   "source": [
    "df[['utilization', 'avg_bill_6m', 'total_pay_6m', 'slope', 'risk_score', 'risk_flag']].head()"
   ]
  },
  {
   "cell_type": "markdown",
   "id": "86a4fe33",
   "metadata": {},
   "source": [
    "# 4. Risk Analytics"
   ]
  },
  {
   "cell_type": "markdown",
   "id": "6166cdbe",
   "metadata": {},
   "source": [
    "## `A. Distribution of Credit Utilization Among Customers`"
   ]
  },
  {
   "cell_type": "code",
   "execution_count": null,
   "id": "63a2886c",
   "metadata": {},
   "outputs": [],
   "source": [
    "util_plot = alt.Chart(df).mark_area(\n",
    "    interpolate='monotone',\n",
    "    color=alt.Gradient(\n",
    "        gradient='linear',\n",
    "        stops=[\n",
    "            alt.GradientStop(color='#FFB703', offset=0),\n",
    "            alt.GradientStop(color='#E63946', offset=1)\n",
    "        ],\n",
    "        x1=1, x2=1, y1=1, y2=0\n",
    "    ),\n",
    "    opacity=0.85\n",
    ").encode(\n",
    "    alt.X('utilization:Q', bin=alt.Bin(maxbins=40), title='Credit Utilization Ratio'),\n",
    "    alt.Y('count()', title='Number of Customers')\n",
    ").properties(\n",
    "    title='Distribution of Credit Utilization Among Customers',\n",
    "    width=600,\n",
    "    height=340\n",
    ").configure_title(fontSize=16, anchor='start')\n",
    "\n",
    "util_plot\n"
   ]
  },
  {
   "cell_type": "markdown",
   "id": "e01361e9",
   "metadata": {},
   "source": [
    "\n",
    "This chart shows how customers are using their available credit limits.  \n",
    "Each bar represents a group of customers based on their **credit utilization ratio**, which is the proportion of their credit limit that they’ve used.\n",
    "\n",
    "- Most customers stay within moderate utilization levels, which indicates healthy financial behavior.  \n",
    "- A smaller number of customers show very high utilization which is a possible sign of credit stress or dependency.  \n",
    "- The overall shape of the distribution helps us understand the general spending and repayment balance in the customer base.\n",
    "\n",
    "In short, **lower utilization** often reflects better financial management, while **high utilization** may require closer monitoring.\n",
    "\n",
    "---\n"
   ]
  },
  {
   "cell_type": "markdown",
   "id": "00710470",
   "metadata": {},
   "source": [
    "## `B. Average Bill by Age Group`"
   ]
  },
  {
   "cell_type": "code",
   "execution_count": null,
   "id": "710bc542",
   "metadata": {},
   "outputs": [],
   "source": [
    "# Creating age group labels\n",
    "if 'age_group' not in df.columns:\n",
    "    df['age_group'] = pd.cut(\n",
    "        df['age'],\n",
    "        bins=[0, 24, 34, 44, 54, df['age'].max()],\n",
    "        labels=['<25', '25–34', '35–44', '45–54', '55+']\n",
    "    )"
   ]
  },
  {
   "cell_type": "code",
   "execution_count": null,
   "id": "c072cc29",
   "metadata": {},
   "outputs": [],
   "source": [
    "age_bill = alt.Chart(df).transform_filter(\"!isNaN(datum.avg_bill_6m)\").mark_bar(\n",
    "    cornerRadiusTopLeft=6,\n",
    "    cornerRadiusTopRight=6\n",
    ").encode(\n",
    "    x=alt.X('age_group:N', sort=['<25','25–34','35–44','45–54','55+'], title='Age group'),\n",
    "    y=alt.Y('mean(avg_bill_6m):Q', title='Average bill (6m)'),\n",
    "    color=alt.Color('age_group:N', scale=alt.Scale(scheme='redyellowblue')),\n",
    "    tooltip=[\n",
    "        alt.Tooltip('mean(avg_bill_6m):Q', title='Avg bill (6m)', format=',.0f'),\n",
    "        'age_group'\n",
    "    ]\n",
    ").properties(\n",
    "    title='Average Bill by Age Group',\n",
    "    width=520,\n",
    "    height=320\n",
    ").configure_title(fontSize=16, anchor='start')\n",
    "age_bill\n"
   ]
  },
  {
   "cell_type": "markdown",
   "id": "5ca28160",
   "metadata": {},
   "source": [
    "\n",
    "\n",
    "This bar chart compares **average monthly bill amounts** across different age groups.\n",
    "\n",
    "- Younger customers tend to have smaller average bills, which could reflect lower incomes or lighter credit usage.  \n",
    "- Middle-aged and older customers often show higher bill amounts, possibly due to higher credit access or spending needs.  \n",
    "- The differences across age groups help highlight spending habits and potential customer segmentation opportunities.\n",
    "\n",
    "Overall, this view offers insight into how **age influences billing behavior** and financial engagement.\n",
    "\n",
    "___"
   ]
  },
  {
   "cell_type": "markdown",
   "id": "343708dc",
   "metadata": {},
   "source": [
    "## `C. Billing Trend vs Utilization`"
   ]
  },
  {
   "cell_type": "code",
   "execution_count": null,
   "id": "3dbbc288",
   "metadata": {},
   "outputs": [],
   "source": [
    "slope_util = alt.Chart(df).transform_filter(\"!isNaN(datum.slope) && !isNaN(datum.utilization)\").mark_circle(size=70, opacity=0.65).encode(\n",
    "    x=alt.X('slope:Q', title='Billing trend (slope)'),\n",
    "    y=alt.Y('utilization:Q', title='Utilization'),\n",
    "    color=alt.Color('risk_flag:N', scale=alt.Scale(domain=['Low','Medium','High'], range=['#FFB703','#E63946','#1A759F'])),\n",
    "    tooltip=['slope','utilization','risk_flag']\n",
    ").properties(title='Billing Trend vs Utilization (Risk Zones)', width=620, height=360)\n",
    "slope_util"
   ]
  },
  {
   "cell_type": "markdown",
   "id": "2406b9ef",
   "metadata": {},
   "source": [
    "\n",
    "This scatter plot examines the relationship between customers’ **billing trends** and their **credit utilization** levels.\n",
    "\n",
    "- Customers with **rising bills and high utilization** are grouped toward the higher-risk zones.  \n",
    "- Customers with **stable or decreasing bills** and moderate utilization usually fall in lower-risk zones.  \n",
    "- The chart uses color-coded zones to make it easier to identify risk behavior visually.\n",
    "\n",
    "This visualization helps connect **spending growth** and **credit reliance** to overall financial risk.\n",
    "\n",
    "---"
   ]
  },
  {
   "cell_type": "markdown",
   "id": "0c862bb5",
   "metadata": {},
   "source": [
    "## `D. Customer Segmentation by Risk Category`"
   ]
  },
  {
   "cell_type": "code",
   "execution_count": null,
   "id": "286d8e7b",
   "metadata": {},
   "outputs": [],
   "source": [
    "risk_segment = alt.Chart(df).mark_bar(cornerRadiusTopLeft=8, cornerRadiusTopRight=8).encode(\n",
    "    x=alt.X('risk_flag:N', title='Risk Category', sort=['Low','Medium','High']),\n",
    "    y=alt.Y('count():Q', title='Number of customers'),\n",
    "    color=alt.Color('risk_flag:N', scale=alt.Scale(domain=['Low','Medium','High'], range=['#FFB703','#E63946','#1A759F'])),\n",
    "    tooltip=['risk_flag', 'count()']\n",
    ").properties(title='Customer Segmentation by Risk Category', width=520, height=320)\n",
    "risk_segment"
   ]
  },
  {
   "cell_type": "markdown",
   "id": "08c91798",
   "metadata": {},
   "source": [
    "\n",
    "This bar chart breaks down the customer base into **Low**, **Medium**, and **High** risk segments.\n",
    "\n",
    "- A larger share of low-risk customers indicates strong financial health across the dataset.  \n",
    "- The presence of medium- and high-risk groups signals areas that may need early intervention or closer analysis.  \n",
    "- Each bar reflects the number of customers falling within that specific risk band.\n",
    "\n",
    "Such segmentation helps institutions focus attention and resources where they’re needed most.\n",
    "\n",
    "---\n"
   ]
  },
  {
   "cell_type": "markdown",
   "id": "58eae674",
   "metadata": {},
   "source": [
    "## `E. Customer Journey: Utilization → Risk`"
   ]
  },
  {
   "cell_type": "code",
   "execution_count": null,
   "id": "e6361421",
   "metadata": {},
   "outputs": [],
   "source": [
    "journey = alt.Chart(df).transform_filter(\"!isNaN(datum.utilization) && !isNaN(datum.risk_score)\").mark_circle(size=55, opacity=0.65).encode(\n",
    "    x=alt.X('utilization:Q', title='Utilization'),\n",
    "    y=alt.Y('risk_score:Q', title='Risk score'),\n",
    "    color=alt.Color('risk_flag:N', scale=alt.Scale(domain=['Low','Medium','High'], range=['#FFB703','#E63946','#1A759F'])),\n",
    "    tooltip=['utilization','risk_score','risk_flag']\n",
    ").properties(title='Customer Journey: Utilization → Risk', width=620, height=360)\n",
    "journey"
   ]
  },
  {
   "cell_type": "markdown",
   "id": "a56e15f6",
   "metadata": {},
   "source": [
    "\n",
    "This scatter chart shows how a customer’s **credit utilization** connects to their **risk score**.\n",
    "\n",
    "- As utilization increases, risk scores also tend to rise.  \n",
    "- Low utilization usually aligns with low risk, while very high utilization correlates with high risk.  \n",
    "- The color of each point represents the customer’s risk category — providing a quick view of how spending behavior translates into risk levels.\n",
    "\n",
    "In essence, this visualization illustrates how **credit usage patterns lead to changes in overall financial risk**.\n",
    "\n",
    "---"
   ]
  },
  {
   "cell_type": "markdown",
   "id": "f5597108",
   "metadata": {},
   "source": [
    "## `F. Utilization Distribution by Default Payment Next Month`"
   ]
  },
  {
   "cell_type": "code",
   "execution_count": null,
   "id": "a6184afb",
   "metadata": {},
   "outputs": [],
   "source": [
    "target = 'default_payment_next_month' if df['default_payment_next_month'].notna().sum() > 0 else 'risk_flag'\n",
    "\n",
    "dens = alt.Chart(df).transform_density(\n",
    "    'utilization',\n",
    "    as_=['utilization','density'],\n",
    "    groupby=[target]\n",
    ").mark_area(opacity=0.5).encode(\n",
    "    x=alt.X('utilization:Q', title='Utilization'),\n",
    "    y=alt.Y('density:Q', title='Density'),\n",
    "    color=alt.Color(f'{target}:N', title=target.replace('_',' ').title())\n",
    ").properties(\n",
    "    width=500, height=200, title=f'Utilization Distribution by {target.replace(\"_\",\" \").title()}'\n",
    ")\n",
    "\n",
    "dens"
   ]
  },
  {
   "cell_type": "markdown",
   "id": "51e45afb",
   "metadata": {},
   "source": [
    "\n",
    "This chart compares the credit utilization levels of customers who **defaulted on their next payment** versus those who did not.\n",
    "\n",
    "---"
   ]
  },
  {
   "cell_type": "markdown",
   "id": "f93bb70f",
   "metadata": {},
   "source": [
    "## `G. Avg Bill per Month by Risk Flag`"
   ]
  },
  {
   "cell_type": "code",
   "execution_count": null,
   "id": "e6e03d39",
   "metadata": {},
   "outputs": [],
   "source": [
    "bill_long = df[['id','risk_flag'] + bill_cols].melt(\n",
    "    id_vars=['id','risk_flag'],\n",
    "    value_vars=bill_cols,\n",
    "    var_name='bill_col',\n",
    "    value_name='bill_amt'\n",
    ")\n",
    "bill_long['month_idx'] = bill_long['bill_col'].str.extract('(\\d+)').astype(int)\n",
    "\n",
    "avg_ts = (bill_long\n",
    "          .groupby(['risk_flag','month_idx'])\n",
    "          .agg(avg_bill=('bill_amt','mean'))\n",
    "          .reset_index())\n",
    "\n",
    "ts = alt.Chart(avg_ts).mark_line(point=True).encode(\n",
    "    x=alt.X('month_idx:Q', title='Month index (1…6)', scale=alt.Scale(domain=[1,6])),\n",
    "    y=alt.Y('avg_bill:Q', title='Average bill'),\n",
    "    color=alt.Color('risk_flag:N', title='Risk Flag')\n",
    ").properties(width=520, height=300, title='Avg Bill per Month by Risk Flag')\n",
    "\n",
    "ts"
   ]
  },
  {
   "cell_type": "markdown",
   "id": "87419b09",
   "metadata": {},
   "source": [
    "\n",
    "\n",
    "This line chart tracks the **average monthly bill amount** over six months for customers in different risk categories.\n",
    "\n",
    "- Low-risk customers show steady billing patterns across months.  \n",
    "- Medium- and high-risk customers often exhibit higher fluctuations or sharper increases.  \n",
    "- The comparison highlights how consistency in billing behavior tends to align with lower financial risk.\n",
    "\n",
    "The plot offers a timeline view of **how customer risk correlates with payment stability**.\n",
    "\n",
    "---"
   ]
  },
  {
   "cell_type": "markdown",
   "id": "5769ff24",
   "metadata": {},
   "source": [
    "## `H. Composite Risk Score Distribution`"
   ]
  },
  {
   "cell_type": "code",
   "execution_count": null,
   "id": "07c6f5b5",
   "metadata": {},
   "outputs": [],
   "source": [
    "risk_hist = (\n",
    "    alt.Chart(df)\n",
    "    .transform_filter(alt.datum.risk_score != None)\n",
    "    .mark_bar(opacity=0.9)\n",
    "    .encode(\n",
    "        x=alt.X('risk_score:Q', bin=alt.Bin(maxbins=35), title='Risk Score'),\n",
    "        y=alt.Y('count():Q', title='Customer Count'),\n",
    "        color=alt.Color(\n",
    "            'risk_score:Q',\n",
    "            scale=alt.Scale(\n",
    "                domain=[0, 0.1, 0.2],\n",
    "                range=['#1A759F', '#FFB703', '#E63946'],\n",
    "                clamp=True\n",
    "            ),\n",
    "            title='Risk Score'\n",
    "        ),\n",
    "        tooltip=[alt.Tooltip('risk_score:Q', format='.2f'), 'count()']\n",
    "    )\n",
    "    .properties(\n",
    "        title='Composite Risk Score Distribution',\n",
    "        width=620,\n",
    "        height=320\n",
    "    )\n",
    "    .configure_title(fontSize=16, anchor='start')\n",
    ")\n",
    "\n",
    "risk_hist\n",
    "\n"
   ]
  },
  {
   "cell_type": "markdown",
   "id": "4db5a4e1",
   "metadata": {},
   "source": [
    "\n",
    "This histogram shows how customers are distributed across the full range of **risk scores**.\n",
    "\n",
    "- The gradient smoothly transitions from **low to high risk**, with blue for safer customers and red for riskier ones.  \n",
    "- Most customers cluster toward the lower-risk end, while a small group appears on the higher-risk tail.  \n",
    "- This overall picture helps identify where the majority of the portfolio lies and where attention may be needed.\n",
    "\n",
    "The visualization provides a final, comprehensive look at the **risk landscape of all customers**.\n",
    "\n",
    "---"
   ]
  }
 ],
 "metadata": {
  "kernelspec": {
   "display_name": "Python 3 (ipykernel)",
   "language": "python",
   "name": "python3"
  },
  "language_info": {
   "codemirror_mode": {
    "name": "ipython",
    "version": 3
   },
   "file_extension": ".py",
   "mimetype": "text/x-python",
   "name": "python",
   "nbconvert_exporter": "python",
   "pygments_lexer": "ipython3",
   "version": "3.13.7"
  }
 },
 "nbformat": 4,
 "nbformat_minor": 5
}
