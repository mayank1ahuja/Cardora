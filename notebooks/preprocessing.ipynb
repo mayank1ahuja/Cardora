{
 "cells": [
  {
   "cell_type": "markdown",
   "id": "f571d938",
   "metadata": {},
   "source": [
    "# 1. Loading Dependencies"
   ]
  },
  {
   "cell_type": "code",
   "execution_count": 1,
   "id": "f9979d3a",
   "metadata": {},
   "outputs": [],
   "source": [
    "import pandas as pd \n",
    "import numpy as np"
   ]
  },
  {
   "cell_type": "markdown",
   "id": "0e7e0a66",
   "metadata": {},
   "source": [
    "# 2. Importing Raw Data"
   ]
  },
  {
   "cell_type": "code",
   "execution_count": 2,
   "id": "451f9ff9",
   "metadata": {},
   "outputs": [
    {
     "name": "stdout",
     "output_type": "stream",
     "text": [
      "CSV successfully imported.\n"
     ]
    }
   ],
   "source": [
    "df = pd.read_csv(\"/Users/mayankahuja/Desktop/Cardora/data/UCI_Credit_Card.csv\")\n",
    "print('CSV successfully imported.')"
   ]
  },
  {
   "cell_type": "code",
   "execution_count": 3,
   "id": "03af9da6",
   "metadata": {},
   "outputs": [
    {
     "data": {
      "text/html": [
       "<div>\n",
       "<style scoped>\n",
       "    .dataframe tbody tr th:only-of-type {\n",
       "        vertical-align: middle;\n",
       "    }\n",
       "\n",
       "    .dataframe tbody tr th {\n",
       "        vertical-align: top;\n",
       "    }\n",
       "\n",
       "    .dataframe thead th {\n",
       "        text-align: right;\n",
       "    }\n",
       "</style>\n",
       "<table border=\"1\" class=\"dataframe\">\n",
       "  <thead>\n",
       "    <tr style=\"text-align: right;\">\n",
       "      <th></th>\n",
       "      <th>ID</th>\n",
       "      <th>LIMIT_BAL</th>\n",
       "      <th>SEX</th>\n",
       "      <th>EDUCATION</th>\n",
       "      <th>MARRIAGE</th>\n",
       "      <th>AGE</th>\n",
       "      <th>PAY_0</th>\n",
       "      <th>PAY_2</th>\n",
       "      <th>PAY_3</th>\n",
       "      <th>PAY_4</th>\n",
       "      <th>...</th>\n",
       "      <th>BILL_AMT4</th>\n",
       "      <th>BILL_AMT5</th>\n",
       "      <th>BILL_AMT6</th>\n",
       "      <th>PAY_AMT1</th>\n",
       "      <th>PAY_AMT2</th>\n",
       "      <th>PAY_AMT3</th>\n",
       "      <th>PAY_AMT4</th>\n",
       "      <th>PAY_AMT5</th>\n",
       "      <th>PAY_AMT6</th>\n",
       "      <th>default.payment.next.month</th>\n",
       "    </tr>\n",
       "  </thead>\n",
       "  <tbody>\n",
       "    <tr>\n",
       "      <th>0</th>\n",
       "      <td>1</td>\n",
       "      <td>20000.0</td>\n",
       "      <td>2</td>\n",
       "      <td>2</td>\n",
       "      <td>1</td>\n",
       "      <td>24</td>\n",
       "      <td>2</td>\n",
       "      <td>2</td>\n",
       "      <td>-1</td>\n",
       "      <td>-1</td>\n",
       "      <td>...</td>\n",
       "      <td>0.0</td>\n",
       "      <td>0.0</td>\n",
       "      <td>0.0</td>\n",
       "      <td>0.0</td>\n",
       "      <td>689.0</td>\n",
       "      <td>0.0</td>\n",
       "      <td>0.0</td>\n",
       "      <td>0.0</td>\n",
       "      <td>0.0</td>\n",
       "      <td>1</td>\n",
       "    </tr>\n",
       "    <tr>\n",
       "      <th>1</th>\n",
       "      <td>2</td>\n",
       "      <td>120000.0</td>\n",
       "      <td>2</td>\n",
       "      <td>2</td>\n",
       "      <td>2</td>\n",
       "      <td>26</td>\n",
       "      <td>-1</td>\n",
       "      <td>2</td>\n",
       "      <td>0</td>\n",
       "      <td>0</td>\n",
       "      <td>...</td>\n",
       "      <td>3272.0</td>\n",
       "      <td>3455.0</td>\n",
       "      <td>3261.0</td>\n",
       "      <td>0.0</td>\n",
       "      <td>1000.0</td>\n",
       "      <td>1000.0</td>\n",
       "      <td>1000.0</td>\n",
       "      <td>0.0</td>\n",
       "      <td>2000.0</td>\n",
       "      <td>1</td>\n",
       "    </tr>\n",
       "    <tr>\n",
       "      <th>2</th>\n",
       "      <td>3</td>\n",
       "      <td>90000.0</td>\n",
       "      <td>2</td>\n",
       "      <td>2</td>\n",
       "      <td>2</td>\n",
       "      <td>34</td>\n",
       "      <td>0</td>\n",
       "      <td>0</td>\n",
       "      <td>0</td>\n",
       "      <td>0</td>\n",
       "      <td>...</td>\n",
       "      <td>14331.0</td>\n",
       "      <td>14948.0</td>\n",
       "      <td>15549.0</td>\n",
       "      <td>1518.0</td>\n",
       "      <td>1500.0</td>\n",
       "      <td>1000.0</td>\n",
       "      <td>1000.0</td>\n",
       "      <td>1000.0</td>\n",
       "      <td>5000.0</td>\n",
       "      <td>0</td>\n",
       "    </tr>\n",
       "    <tr>\n",
       "      <th>3</th>\n",
       "      <td>4</td>\n",
       "      <td>50000.0</td>\n",
       "      <td>2</td>\n",
       "      <td>2</td>\n",
       "      <td>1</td>\n",
       "      <td>37</td>\n",
       "      <td>0</td>\n",
       "      <td>0</td>\n",
       "      <td>0</td>\n",
       "      <td>0</td>\n",
       "      <td>...</td>\n",
       "      <td>28314.0</td>\n",
       "      <td>28959.0</td>\n",
       "      <td>29547.0</td>\n",
       "      <td>2000.0</td>\n",
       "      <td>2019.0</td>\n",
       "      <td>1200.0</td>\n",
       "      <td>1100.0</td>\n",
       "      <td>1069.0</td>\n",
       "      <td>1000.0</td>\n",
       "      <td>0</td>\n",
       "    </tr>\n",
       "    <tr>\n",
       "      <th>4</th>\n",
       "      <td>5</td>\n",
       "      <td>50000.0</td>\n",
       "      <td>1</td>\n",
       "      <td>2</td>\n",
       "      <td>1</td>\n",
       "      <td>57</td>\n",
       "      <td>-1</td>\n",
       "      <td>0</td>\n",
       "      <td>-1</td>\n",
       "      <td>0</td>\n",
       "      <td>...</td>\n",
       "      <td>20940.0</td>\n",
       "      <td>19146.0</td>\n",
       "      <td>19131.0</td>\n",
       "      <td>2000.0</td>\n",
       "      <td>36681.0</td>\n",
       "      <td>10000.0</td>\n",
       "      <td>9000.0</td>\n",
       "      <td>689.0</td>\n",
       "      <td>679.0</td>\n",
       "      <td>0</td>\n",
       "    </tr>\n",
       "  </tbody>\n",
       "</table>\n",
       "<p>5 rows × 25 columns</p>\n",
       "</div>"
      ],
      "text/plain": [
       "   ID  LIMIT_BAL  SEX  EDUCATION  MARRIAGE  AGE  PAY_0  PAY_2  PAY_3  PAY_4  \\\n",
       "0   1    20000.0    2          2         1   24      2      2     -1     -1   \n",
       "1   2   120000.0    2          2         2   26     -1      2      0      0   \n",
       "2   3    90000.0    2          2         2   34      0      0      0      0   \n",
       "3   4    50000.0    2          2         1   37      0      0      0      0   \n",
       "4   5    50000.0    1          2         1   57     -1      0     -1      0   \n",
       "\n",
       "   ...  BILL_AMT4  BILL_AMT5  BILL_AMT6  PAY_AMT1  PAY_AMT2  PAY_AMT3  \\\n",
       "0  ...        0.0        0.0        0.0       0.0     689.0       0.0   \n",
       "1  ...     3272.0     3455.0     3261.0       0.0    1000.0    1000.0   \n",
       "2  ...    14331.0    14948.0    15549.0    1518.0    1500.0    1000.0   \n",
       "3  ...    28314.0    28959.0    29547.0    2000.0    2019.0    1200.0   \n",
       "4  ...    20940.0    19146.0    19131.0    2000.0   36681.0   10000.0   \n",
       "\n",
       "   PAY_AMT4  PAY_AMT5  PAY_AMT6  default.payment.next.month  \n",
       "0       0.0       0.0       0.0                           1  \n",
       "1    1000.0       0.0    2000.0                           1  \n",
       "2    1000.0    1000.0    5000.0                           0  \n",
       "3    1100.0    1069.0    1000.0                           0  \n",
       "4    9000.0     689.0     679.0                           0  \n",
       "\n",
       "[5 rows x 25 columns]"
      ]
     },
     "execution_count": 3,
     "metadata": {},
     "output_type": "execute_result"
    }
   ],
   "source": [
    "#quick peek \n",
    "df.head(5)"
   ]
  },
  {
   "cell_type": "markdown",
   "id": "3776e162",
   "metadata": {},
   "source": [
    "# 3. Standardization of Coulmns"
   ]
  },
  {
   "cell_type": "code",
   "execution_count": null,
   "id": "d13fbed1",
   "metadata": {},
   "outputs": [
    {
     "name": "stdout",
     "output_type": "stream",
     "text": [
      "Columns: ['id', 'limit_bal', 'sex', 'education', 'marriage', 'age', 'pay_0', 'pay_2', 'pay_3', 'pay_4', 'pay_5', 'pay_6', 'bill_amt1', 'bill_amt2', 'bill_amt3', 'bill_amt4', 'bill_amt5', 'bill_amt6', 'pay_amt1', 'pay_amt2', 'pay_amt3', 'pay_amt4', 'pay_amt5', 'pay_amt6', 'default_payment_next_month']\n"
     ]
    }
   ],
   "source": [
    "# Standardizing column names to lowercase and remove spaces\n",
    "df.columns = [c.strip().lower().replace('.', '_').replace(' ', '_') for c in df.columns]\n",
    "print('Columns:', df.columns.tolist())"
   ]
  },
  {
   "cell_type": "markdown",
   "id": "42a683d3",
   "metadata": {},
   "source": [
    "# 4. Cleaning Data"
   ]
  },
  {
   "cell_type": "code",
   "execution_count": 5,
   "id": "90be530b",
   "metadata": {},
   "outputs": [
    {
     "data": {
      "text/plain": [
       "id                            0\n",
       "limit_bal                     0\n",
       "sex                           0\n",
       "education                     0\n",
       "marriage                      0\n",
       "age                           0\n",
       "pay_0                         0\n",
       "pay_2                         0\n",
       "pay_3                         0\n",
       "pay_4                         0\n",
       "pay_5                         0\n",
       "pay_6                         0\n",
       "bill_amt1                     0\n",
       "bill_amt2                     0\n",
       "bill_amt3                     0\n",
       "bill_amt4                     0\n",
       "bill_amt5                     0\n",
       "bill_amt6                     0\n",
       "pay_amt1                      0\n",
       "pay_amt2                      0\n",
       "pay_amt3                      0\n",
       "pay_amt4                      0\n",
       "pay_amt5                      0\n",
       "pay_amt6                      0\n",
       "default_payment_next_month    0\n",
       "dtype: int64"
      ]
     },
     "execution_count": 5,
     "metadata": {},
     "output_type": "execute_result"
    }
   ],
   "source": [
    "df.isna().sum()"
   ]
  },
  {
   "cell_type": "code",
   "execution_count": 6,
   "id": "6d6d2460",
   "metadata": {},
   "outputs": [
    {
     "data": {
      "text/plain": [
       "np.int64(0)"
      ]
     },
     "execution_count": 6,
     "metadata": {},
     "output_type": "execute_result"
    }
   ],
   "source": [
    "df.duplicated().sum()"
   ]
  },
  {
   "cell_type": "code",
   "execution_count": 7,
   "id": "be01f2ad",
   "metadata": {},
   "outputs": [
    {
     "data": {
      "text/plain": [
       "id                              int64\n",
       "limit_bal                     float64\n",
       "sex                             int64\n",
       "education                       int64\n",
       "marriage                        int64\n",
       "age                             int64\n",
       "pay_0                           int64\n",
       "pay_2                           int64\n",
       "pay_3                           int64\n",
       "pay_4                           int64\n",
       "pay_5                           int64\n",
       "pay_6                           int64\n",
       "bill_amt1                     float64\n",
       "bill_amt2                     float64\n",
       "bill_amt3                     float64\n",
       "bill_amt4                     float64\n",
       "bill_amt5                     float64\n",
       "bill_amt6                     float64\n",
       "pay_amt1                      float64\n",
       "pay_amt2                      float64\n",
       "pay_amt3                      float64\n",
       "pay_amt4                      float64\n",
       "pay_amt5                      float64\n",
       "pay_amt6                      float64\n",
       "default_payment_next_month      int64\n",
       "dtype: object"
      ]
     },
     "execution_count": 7,
     "metadata": {},
     "output_type": "execute_result"
    }
   ],
   "source": [
    "df.dtypes"
   ]
  },
  {
   "cell_type": "code",
   "execution_count": 8,
   "id": "fa3541c4",
   "metadata": {},
   "outputs": [],
   "source": [
    "df['sex'] = df['sex'].astype('category')\n",
    "df['education'] = df['education'].astype('category')\n",
    "df['marriage'] = df['marriage'].astype('category')"
   ]
  },
  {
   "cell_type": "markdown",
   "id": "a8379b8c",
   "metadata": {},
   "source": [
    "# 5. Feature Engineering"
   ]
  },
  {
   "cell_type": "code",
   "execution_count": 9,
   "id": "717aaf01",
   "metadata": {},
   "outputs": [
    {
     "data": {
      "text/plain": [
       "0        True\n",
       "1        True\n",
       "2        True\n",
       "3        True\n",
       "4        True\n",
       "         ... \n",
       "29995    True\n",
       "29996    True\n",
       "29997    True\n",
       "29998    True\n",
       "29999    True\n",
       "Name: limit_bal, Length: 30000, dtype: bool"
      ]
     },
     "execution_count": 9,
     "metadata": {},
     "output_type": "execute_result"
    }
   ],
   "source": [
    "df['limit_bal'] > 0"
   ]
  },
  {
   "cell_type": "code",
   "execution_count": 10,
   "id": "b9b2e2a3",
   "metadata": {},
   "outputs": [],
   "source": [
    "df['utilisation'] = df['bill_amt1'] > df['limit_bal']\n",
    "df['avg_bill_amt_6m'] = df[['bill_amt1','bill_amt2','bill_amt3','bill_amt4','bill_amt5','bill_amt6']].mean(axis = 1)\n",
    "df['total_pay_amt_6m'] = df[['pay_amt1','pay_amt2','pay_amt3','pay_amt4','pay_amt5','pay_amt6']].sum(axis = 1)"
   ]
  },
  {
   "cell_type": "markdown",
   "id": "c780470b",
   "metadata": {},
   "source": [
    "#### A. Choosing the Target Variable\n",
    "\n",
    "The target variable is set as `bill_amt1`, which represents the **next month’s billing amount** for a customer.  \n",
    "This variable is chosen because it directly reflects short-term financial activity and helps identify spending or repayment trends.\n",
    "\n",
    "Selecting this target allows the model to learn patterns that predict how much a customer is likely to owe next month.  \n",
    "Such predictions can assist credit analysts in identifying customers at risk of overspending or requiring credit adjustments.\n",
    "\n",
    "If an irrelevant or indirect variable were chosen as the target, the model’s predictions would lose business meaning and accuracy, making the results difficult to interpret or apply.\n"
   ]
  },
  {
   "cell_type": "code",
   "execution_count": 11,
   "id": "3c488ad2",
   "metadata": {},
   "outputs": [],
   "source": [
    "TARGET = 'bill_amt1'"
   ]
  },
  {
   "cell_type": "markdown",
   "id": "4fd52d6a",
   "metadata": {},
   "source": [
    "#### B. Capping extremely large bill amounts for robust regression"
   ]
  },
  {
   "cell_type": "code",
   "execution_count": 12,
   "id": "40f6fd75",
   "metadata": {},
   "outputs": [],
   "source": [
    "clip_upper = df['bill_amt1'].quantile(0.995)\n",
    "df['bill_amt1_clipped'] = df['bill_amt1'].clip(upper = clip_upper)"
   ]
  },
  {
   "cell_type": "markdown",
   "id": "8f724491",
   "metadata": {},
   "source": [
    "#### C. Final feature list for baseline regression"
   ]
  },
  {
   "cell_type": "code",
   "execution_count": null,
   "id": "3849f3c4",
   "metadata": {},
   "outputs": [],
   "source": [
    "feature_cols = [\n",
    "    'limit_bal', 'age', 'avg_bill_amt_6m', 'total_pay_amt_6m'\n",
    "]"
   ]
  },
  {
   "cell_type": "markdown",
   "id": "3a0b9bdc",
   "metadata": {},
   "source": [
    "#### D. Extending 'feature_cols' with new dummies"
   ]
  },
  {
   "cell_type": "code",
   "execution_count": 14,
   "id": "e3804dba",
   "metadata": {},
   "outputs": [],
   "source": [
    "for c in df.columns:\n",
    "    if c.startswith('sex_') or c.startswith('education_') or c.startswith('marriage_'):\n",
    "        feature_cols.append(c)"
   ]
  },
  {
   "cell_type": "code",
   "execution_count": 15,
   "id": "481c907b",
   "metadata": {},
   "outputs": [
    {
     "name": "stdout",
     "output_type": "stream",
     "text": [
      "Final features: ['limit_bal', 'age', 'utilization', 'avg_bill_amt_6m', 'total_pay_amt_6m']\n",
      "Final dataset shape: (30000, 29)\n"
     ]
    }
   ],
   "source": [
    "print(\"Final features:\", feature_cols)\n",
    "print(\"Final dataset shape:\", df.shape)"
   ]
  },
  {
   "cell_type": "code",
   "execution_count": 16,
   "id": "2a218b18",
   "metadata": {},
   "outputs": [
    {
     "data": {
      "text/html": [
       "<div>\n",
       "<style scoped>\n",
       "    .dataframe tbody tr th:only-of-type {\n",
       "        vertical-align: middle;\n",
       "    }\n",
       "\n",
       "    .dataframe tbody tr th {\n",
       "        vertical-align: top;\n",
       "    }\n",
       "\n",
       "    .dataframe thead th {\n",
       "        text-align: right;\n",
       "    }\n",
       "</style>\n",
       "<table border=\"1\" class=\"dataframe\">\n",
       "  <thead>\n",
       "    <tr style=\"text-align: right;\">\n",
       "      <th></th>\n",
       "      <th>id</th>\n",
       "      <th>limit_bal</th>\n",
       "      <th>sex</th>\n",
       "      <th>education</th>\n",
       "      <th>marriage</th>\n",
       "      <th>age</th>\n",
       "      <th>pay_0</th>\n",
       "      <th>pay_2</th>\n",
       "      <th>pay_3</th>\n",
       "      <th>pay_4</th>\n",
       "      <th>...</th>\n",
       "      <th>pay_amt2</th>\n",
       "      <th>pay_amt3</th>\n",
       "      <th>pay_amt4</th>\n",
       "      <th>pay_amt5</th>\n",
       "      <th>pay_amt6</th>\n",
       "      <th>default_payment_next_month</th>\n",
       "      <th>utilisation</th>\n",
       "      <th>avg_bill_amt_6m</th>\n",
       "      <th>total_pay_amt_6m</th>\n",
       "      <th>bill_amt1_clipped</th>\n",
       "    </tr>\n",
       "  </thead>\n",
       "  <tbody>\n",
       "    <tr>\n",
       "      <th>0</th>\n",
       "      <td>1</td>\n",
       "      <td>20000.0</td>\n",
       "      <td>2</td>\n",
       "      <td>2</td>\n",
       "      <td>1</td>\n",
       "      <td>24</td>\n",
       "      <td>2</td>\n",
       "      <td>2</td>\n",
       "      <td>-1</td>\n",
       "      <td>-1</td>\n",
       "      <td>...</td>\n",
       "      <td>689.0</td>\n",
       "      <td>0.0</td>\n",
       "      <td>0.0</td>\n",
       "      <td>0.0</td>\n",
       "      <td>0.0</td>\n",
       "      <td>1</td>\n",
       "      <td>False</td>\n",
       "      <td>1284.000000</td>\n",
       "      <td>689.0</td>\n",
       "      <td>3913.0</td>\n",
       "    </tr>\n",
       "    <tr>\n",
       "      <th>1</th>\n",
       "      <td>2</td>\n",
       "      <td>120000.0</td>\n",
       "      <td>2</td>\n",
       "      <td>2</td>\n",
       "      <td>2</td>\n",
       "      <td>26</td>\n",
       "      <td>-1</td>\n",
       "      <td>2</td>\n",
       "      <td>0</td>\n",
       "      <td>0</td>\n",
       "      <td>...</td>\n",
       "      <td>1000.0</td>\n",
       "      <td>1000.0</td>\n",
       "      <td>1000.0</td>\n",
       "      <td>0.0</td>\n",
       "      <td>2000.0</td>\n",
       "      <td>1</td>\n",
       "      <td>False</td>\n",
       "      <td>2846.166667</td>\n",
       "      <td>5000.0</td>\n",
       "      <td>2682.0</td>\n",
       "    </tr>\n",
       "    <tr>\n",
       "      <th>2</th>\n",
       "      <td>3</td>\n",
       "      <td>90000.0</td>\n",
       "      <td>2</td>\n",
       "      <td>2</td>\n",
       "      <td>2</td>\n",
       "      <td>34</td>\n",
       "      <td>0</td>\n",
       "      <td>0</td>\n",
       "      <td>0</td>\n",
       "      <td>0</td>\n",
       "      <td>...</td>\n",
       "      <td>1500.0</td>\n",
       "      <td>1000.0</td>\n",
       "      <td>1000.0</td>\n",
       "      <td>1000.0</td>\n",
       "      <td>5000.0</td>\n",
       "      <td>0</td>\n",
       "      <td>False</td>\n",
       "      <td>16942.166667</td>\n",
       "      <td>11018.0</td>\n",
       "      <td>29239.0</td>\n",
       "    </tr>\n",
       "    <tr>\n",
       "      <th>3</th>\n",
       "      <td>4</td>\n",
       "      <td>50000.0</td>\n",
       "      <td>2</td>\n",
       "      <td>2</td>\n",
       "      <td>1</td>\n",
       "      <td>37</td>\n",
       "      <td>0</td>\n",
       "      <td>0</td>\n",
       "      <td>0</td>\n",
       "      <td>0</td>\n",
       "      <td>...</td>\n",
       "      <td>2019.0</td>\n",
       "      <td>1200.0</td>\n",
       "      <td>1100.0</td>\n",
       "      <td>1069.0</td>\n",
       "      <td>1000.0</td>\n",
       "      <td>0</td>\n",
       "      <td>False</td>\n",
       "      <td>38555.666667</td>\n",
       "      <td>8388.0</td>\n",
       "      <td>46990.0</td>\n",
       "    </tr>\n",
       "    <tr>\n",
       "      <th>4</th>\n",
       "      <td>5</td>\n",
       "      <td>50000.0</td>\n",
       "      <td>1</td>\n",
       "      <td>2</td>\n",
       "      <td>1</td>\n",
       "      <td>57</td>\n",
       "      <td>-1</td>\n",
       "      <td>0</td>\n",
       "      <td>-1</td>\n",
       "      <td>0</td>\n",
       "      <td>...</td>\n",
       "      <td>36681.0</td>\n",
       "      <td>10000.0</td>\n",
       "      <td>9000.0</td>\n",
       "      <td>689.0</td>\n",
       "      <td>679.0</td>\n",
       "      <td>0</td>\n",
       "      <td>False</td>\n",
       "      <td>18223.166667</td>\n",
       "      <td>59049.0</td>\n",
       "      <td>8617.0</td>\n",
       "    </tr>\n",
       "  </tbody>\n",
       "</table>\n",
       "<p>5 rows × 29 columns</p>\n",
       "</div>"
      ],
      "text/plain": [
       "   id  limit_bal sex education marriage  age  pay_0  pay_2  pay_3  pay_4  ...  \\\n",
       "0   1    20000.0   2         2        1   24      2      2     -1     -1  ...   \n",
       "1   2   120000.0   2         2        2   26     -1      2      0      0  ...   \n",
       "2   3    90000.0   2         2        2   34      0      0      0      0  ...   \n",
       "3   4    50000.0   2         2        1   37      0      0      0      0  ...   \n",
       "4   5    50000.0   1         2        1   57     -1      0     -1      0  ...   \n",
       "\n",
       "   pay_amt2  pay_amt3  pay_amt4  pay_amt5  pay_amt6  \\\n",
       "0     689.0       0.0       0.0       0.0       0.0   \n",
       "1    1000.0    1000.0    1000.0       0.0    2000.0   \n",
       "2    1500.0    1000.0    1000.0    1000.0    5000.0   \n",
       "3    2019.0    1200.0    1100.0    1069.0    1000.0   \n",
       "4   36681.0   10000.0    9000.0     689.0     679.0   \n",
       "\n",
       "   default_payment_next_month  utilisation  avg_bill_amt_6m  total_pay_amt_6m  \\\n",
       "0                           1        False      1284.000000             689.0   \n",
       "1                           1        False      2846.166667            5000.0   \n",
       "2                           0        False     16942.166667           11018.0   \n",
       "3                           0        False     38555.666667            8388.0   \n",
       "4                           0        False     18223.166667           59049.0   \n",
       "\n",
       "   bill_amt1_clipped  \n",
       "0             3913.0  \n",
       "1             2682.0  \n",
       "2            29239.0  \n",
       "3            46990.0  \n",
       "4             8617.0  \n",
       "\n",
       "[5 rows x 29 columns]"
      ]
     },
     "execution_count": 16,
     "metadata": {},
     "output_type": "execute_result"
    }
   ],
   "source": [
    "df.head(5)"
   ]
  },
  {
   "cell_type": "markdown",
   "id": "39a3c325",
   "metadata": {},
   "source": [
    "# 6. Exporting Processed Data"
   ]
  },
  {
   "cell_type": "code",
   "execution_count": 17,
   "id": "fa0ab733",
   "metadata": {},
   "outputs": [],
   "source": [
    "df.to_csv('/Users/mayankahuja/Desktop/Cardora/data/processed_data.csv', index = False)"
   ]
  }
 ],
 "metadata": {
  "kernelspec": {
   "display_name": "Python 3",
   "language": "python",
   "name": "python3"
  },
  "language_info": {
   "codemirror_mode": {
    "name": "ipython",
    "version": 3
   },
   "file_extension": ".py",
   "mimetype": "text/x-python",
   "name": "python",
   "nbconvert_exporter": "python",
   "pygments_lexer": "ipython3",
   "version": "3.13.7"
  }
 },
 "nbformat": 4,
 "nbformat_minor": 5
}
